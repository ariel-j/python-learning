{
  "cells": [
    {
      "cell_type": "markdown",
      "metadata": {
        "id": "view-in-github",
        "colab_type": "text"
      },
      "source": [
        "<a href=\"https://colab.research.google.com/github/ariel-j/python-learning/blob/main/hw2.ipynb\" target=\"_parent\"><img src=\"https://colab.research.google.com/assets/colab-badge.svg\" alt=\"Open In Colab\"/></a>"
      ]
    },
    {
      "cell_type": "markdown",
      "id": "100cf3fb",
      "metadata": {
        "id": "100cf3fb"
      },
      "source": [
        "Before you turn this problem in, make sure everything runs as expected. First, **restart the kernel** (in the menubar, select Kernel$\\rightarrow$Restart) and then **run all cells** (in the menubar, select Cell$\\rightarrow$Run All).\n",
        "\n",
        "Make sure you fill in any place that says `YOUR CODE HERE` or \"YOUR ANSWER HERE\", as well as your name and collaborators below:"
      ]
    },
    {
      "cell_type": "code",
      "execution_count": null,
      "id": "e9387d87",
      "metadata": {
        "id": "e9387d87"
      },
      "outputs": [],
      "source": [
        "NAME = \"ariel jayson\"\n"
      ]
    },
    {
      "cell_type": "markdown",
      "id": "72b4002f",
      "metadata": {
        "id": "72b4002f"
      },
      "source": [
        "---"
      ]
    },
    {
      "cell_type": "markdown",
      "id": "a8eb11f0",
      "metadata": {
        "id": "a8eb11f0"
      },
      "source": [
        "# Assignment 2: Applications of modular arithmetics"
      ]
    },
    {
      "cell_type": "code",
      "execution_count": null,
      "id": "dabc94d3",
      "metadata": {
        "deletable": false,
        "editable": false,
        "id": "dabc94d3",
        "nbgrader": {
          "cell_type": "code",
          "checksum": "f30147f745df9fd67c728eacb0ab89b0",
          "grade": false,
          "grade_id": "cell-2c47810b587eba40",
          "locked": true,
          "schema_version": 3,
          "solution": false,
          "task": false
        }
      },
      "outputs": [],
      "source": [
        "import math"
      ]
    },
    {
      "cell_type": "markdown",
      "id": "23e788f2",
      "metadata": {
        "deletable": false,
        "editable": false,
        "nbgrader": {
          "cell_type": "markdown",
          "checksum": "497d1b15be506d142f51ee61509b66f8",
          "grade": false,
          "grade_id": "cell-8e70e66cf8309900",
          "locked": true,
          "schema_version": 3,
          "solution": false,
          "task": false
        },
        "id": "23e788f2"
      },
      "source": [
        "## Question 1: Cryptography\n",
        "\n",
        "You will implement and analyze two simple cryptographic algorithms — Caesar's and Scytale ciphers.\n",
        "\n",
        "1. Implement the encoder for Ceasar's cipher: https://en.wikipedia.org/wiki/Caesar_cipher (encode only the letters, leave other characters as-is)."
      ]
    },
    {
      "cell_type": "markdown",
      "id": "de89796d",
      "metadata": {
        "deletable": false,
        "editable": false,
        "nbgrader": {
          "cell_type": "markdown",
          "checksum": "133528ef6fd0ecf3aa9c4c0f304f90d2",
          "grade": false,
          "grade_id": "cell-aa8d321622afeb5c",
          "locked": true,
          "schema_version": 3,
          "solution": false,
          "task": false
        },
        "id": "de89796d"
      },
      "source": [
        "\n",
        "\n",
        "```\n",
        "# This is formatted as code\n",
        "```\n",
        "\n",
        "Q1.1: Implement function `ceasar_cipher`, which will transform regular text into encoded text\n",
        "<pre>\n",
        "------------\n",
        "Input parameters:\n",
        "- plaintext - string, the text that should be encrypted\n",
        "- N - int, size of shift\n",
        "------------\n",
        "return value:\n",
        "string, the text after encoding\n",
        "</pre>"
      ]
    },
    {
      "cell_type": "code",
      "execution_count": null,
      "id": "3aac3aed",
      "metadata": {
        "deletable": false,
        "nbgrader": {
          "cell_type": "code",
          "checksum": "ef22d0eb334ce10cb53d28efd457e741",
          "grade": false,
          "grade_id": "cell-fcc26ea16c7fcc6e",
          "locked": false,
          "schema_version": 3,
          "solution": true,
          "task": false
        },
        "colab": {
          "base_uri": "https://localhost:8080/",
          "height": 36
        },
        "id": "3aac3aed",
        "outputId": "fe917cba-713a-4eeb-bdf0-15fbdc805357"
      },
      "outputs": [
        {
          "output_type": "execute_result",
          "data": {
            "text/plain": [
              "'cdef'"
            ],
            "application/vnd.google.colaboratory.intrinsic+json": {
              "type": "string"
            }
          },
          "metadata": {},
          "execution_count": 121
        }
      ],
      "source": [
        "def ceasar_cipher(plaintext,N):\n",
        "    ans = \"\"\n",
        "    for char in plaintext:\n",
        "        if char.isalpha():\n",
        "            # Determine the new position of the letter in the alphabet after the shift\n",
        "            oldPosition = ord(char)\n",
        "            newPosition = (oldPosition - ord('a') + N) % 26 + ord('a')\n",
        "            ans += chr(newPosition)\n",
        "        else:\n",
        "            # Non-alphabetic characters are left as-is\n",
        "            ans += char\n",
        "\n",
        "    return ans\n",
        "ceasar_cipher(\"abcd\", 2)"
      ]
    },
    {
      "cell_type": "code",
      "execution_count": null,
      "id": "40c534ce",
      "metadata": {
        "deletable": false,
        "editable": false,
        "nbgrader": {
          "cell_type": "code",
          "checksum": "c5046e5105d34828cc13a09ce4b01d9a",
          "grade": true,
          "grade_id": "cell-910c1caba85f9efe",
          "locked": true,
          "points": 10,
          "schema_version": 3,
          "solution": false,
          "task": false
        },
        "colab": {
          "base_uri": "https://localhost:8080/"
        },
        "id": "40c534ce",
        "outputId": "dc167f76-7be9-4ecd-9f67-98e36a139ac7"
      },
      "outputs": [
        {
          "output_type": "stream",
          "name": "stdout",
          "text": [
            "Testing the implementation of the 'ceasarCipher' function..\n",
            " \n",
            "good job!\n",
            "Tests passed. There may be hidden tests too\n"
          ]
        }
      ],
      "source": [
        "# --------------------------- RUN THIS TEST CODE CELL -------------------------------------\n",
        "# Q1.1 --- Test your implementation:\n",
        "# ---------------------------\n",
        "print (\"Testing the implementation of the 'ceasarCipher' function..\\n \")\n",
        "assert type(ceasar_cipher(\"meep meep\",1))==str,'output type is incorrect, should be string'\n",
        "print (\"good job!\\nTests passed. There may be hidden tests too\")\n"
      ]
    },
    {
      "cell_type": "markdown",
      "id": "75c9bea5",
      "metadata": {
        "deletable": false,
        "editable": false,
        "nbgrader": {
          "cell_type": "markdown",
          "checksum": "7a131319fb9eecb2bfd1f183265a82c2",
          "grade": false,
          "grade_id": "cell-2f70f1b68a8a3397",
          "locked": true,
          "schema_version": 3,
          "solution": false,
          "task": false
        },
        "id": "75c9bea5"
      },
      "source": [
        "2. Implement a decoder function that can reverse the cypher you've created, and demonstrate it, by encoding and then decoding the implementation (the source code) of the Caesar cipher using Caesar cipher:\n",
        "  * Encode the Python code\n",
        "  * Decode the result of encoding\n",
        "  * Compare the original and the recovered code  - you can add a box where you print the results — they should be the same."
      ]
    },
    {
      "cell_type": "markdown",
      "id": "51340c50",
      "metadata": {
        "deletable": false,
        "editable": false,
        "nbgrader": {
          "cell_type": "markdown",
          "checksum": "98b90cf6882853efd4352a6ab1da9475",
          "grade": false,
          "grade_id": "cell-7c4c505ac0fa2e26",
          "locked": true,
          "schema_version": 3,
          "solution": false,
          "task": false
        },
        "id": "51340c50"
      },
      "source": [
        "# Q1.2A: Implement function `ceasar_cipher_decode`, which will restore the cyphertext created by `ceasar_cipher` to plaintext\n",
        "\n",
        "<pre>\n",
        "------------\n",
        "Input parameters:\n",
        "- cyphertext - string, the encoded text that needs to be decyphered\n",
        "- N - int, size of shift that was used in the encoding\n",
        "------------\n",
        "return value:\n",
        "string, the text after decoding\n",
        "</pre>"
      ]
    },
    {
      "cell_type": "code",
      "execution_count": null,
      "id": "d4f8c38f",
      "metadata": {
        "deletable": false,
        "nbgrader": {
          "cell_type": "code",
          "checksum": "2fd70691da6f553c1d235ea523c3acd0",
          "grade": false,
          "grade_id": "cell-fd561d08a5195124",
          "locked": false,
          "schema_version": 3,
          "solution": true,
          "task": false
        },
        "id": "d4f8c38f"
      },
      "outputs": [],
      "source": [
        "def ceasar_cipher_decode(cypherText,N=1):\n",
        "  ans = \"\"\n",
        "  for char in cypherText:\n",
        "      if char.isalpha():\n",
        "          # Determine the original position of the letter in the alphabet before the shift\n",
        "          oldPosition = ord(char)\n",
        "          newPosition = (oldPosition - ord('a') - N) % 26 + ord('a')\n",
        "          ans += chr(newPosition)\n",
        "      else:\n",
        "          ans += char\n",
        "\n",
        "  return ans\n"
      ]
    },
    {
      "cell_type": "code",
      "execution_count": null,
      "id": "0980d899",
      "metadata": {
        "deletable": false,
        "editable": false,
        "nbgrader": {
          "cell_type": "code",
          "checksum": "4c2e141a225b5c654fbf5e5b4e009426",
          "grade": true,
          "grade_id": "cell-a3e55a24e9359804",
          "locked": true,
          "points": 8,
          "schema_version": 3,
          "solution": false,
          "task": false
        },
        "colab": {
          "base_uri": "https://localhost:8080/"
        },
        "id": "0980d899",
        "outputId": "54818398-d75f-46fb-84ab-e25d741e02ab"
      },
      "outputs": [
        {
          "output_type": "stream",
          "name": "stdout",
          "text": [
            "Testing the implementation of the 'ceasarCipherDecode' function..\n",
            " \n",
            "good job!\n",
            "Tests passed. There may be hidden tests too\n"
          ]
        }
      ],
      "source": [
        "# --------------------------- RUN THIS TEST CODE CELL -------------------------------------\n",
        "# Q1.2A --- Test your implementation:\n",
        "# ---------------------------\n",
        "print (\"Testing the implementation of the 'ceasarCipherDecode' function..\\n \")\n",
        "assert type(ceasar_cipher_decode(\"ABC\",3))==str,'output type is incorrect, should be string'\n",
        "print (\"good job!\\nTests passed. There may be hidden tests too\")"
      ]
    },
    {
      "cell_type": "markdown",
      "id": "9c6f552e",
      "metadata": {
        "deletable": false,
        "editable": false,
        "nbgrader": {
          "cell_type": "markdown",
          "checksum": "5bb8fed6ba6af7af0cfd0cb03be18b86",
          "grade": false,
          "grade_id": "cell-ee77a41c23c60c7a",
          "locked": true,
          "schema_version": 3,
          "solution": false,
          "task": false
        },
        "id": "9c6f552e"
      },
      "source": [
        "Q1.2B: Implement function `return_encrypted_ceasar_code`, which will return a string that equals the code of `ceasar_cipher` after encryption, with N=2 . Then, implement a function `return_decoded_ceasar_code` which will call `return_encrypted_ceasar_code` and return the decrypted outcome.\n",
        "<pre>\n",
        "return_encrypted_ceasar_code()\n",
        "------------\n",
        "Input parameters:\n",
        "none\n",
        "------------\n",
        "return value:\n",
        "string, the encrypted source code\n",
        "</pre>\n",
        "\n",
        "<pre>\n",
        "return_decoded_ceasar_code()\n",
        "------------\n",
        "Input parameters:\n",
        "encrypted_code - the output of return_encrypted_ceasar_code()\n",
        "------------\n",
        "return value:\n",
        "string, the source code restored to plaintext\n",
        "</pre>"
      ]
    },
    {
      "cell_type": "code",
      "execution_count": null,
      "id": "9dc30b02",
      "metadata": {
        "deletable": false,
        "nbgrader": {
          "cell_type": "code",
          "checksum": "46e622133a13c9a6c934ebd2d9f39962",
          "grade": false,
          "grade_id": "cell-0c2fa8c5fcfb1b21",
          "locked": false,
          "schema_version": 3,
          "solution": true,
          "task": false
        },
        "id": "9dc30b02"
      },
      "outputs": [],
      "source": [
        "import inspect\n",
        "\n",
        "def return_encrypted_ceasar_code():\n",
        "  source_code = inspect.getsource(ceasar_cipher)\n",
        "  encrypted_code = ceasar_cipher(source_code, 2)\n",
        "  return encrypted_code\n",
        "\n",
        "def return_decoded_ceasar_code(encrypted_code=return_encrypted_ceasar_code()):\n",
        "    decoded_code = ceasar_cipher_decode(encrypted_code, 2)\n",
        "    return decoded_code\n"
      ]
    },
    {
      "cell_type": "code",
      "execution_count": null,
      "id": "4ca93a1b",
      "metadata": {
        "deletable": false,
        "editable": false,
        "nbgrader": {
          "cell_type": "code",
          "checksum": "40d1ffdc628d78480aff7fac0b1f3a8d",
          "grade": true,
          "grade_id": "cell-290384e75f4cb72f",
          "locked": true,
          "points": 2,
          "schema_version": 3,
          "solution": false,
          "task": false
        },
        "colab": {
          "base_uri": "https://localhost:8080/"
        },
        "id": "4ca93a1b",
        "outputId": "fffc5850-2e7f-4629-ea56-0c71a5fb552d"
      },
      "outputs": [
        {
          "output_type": "stream",
          "name": "stdout",
          "text": [
            "Testing the implementation of the 'ceasarCipherDecode' function..\n",
            " \n",
            "good job!\n",
            "Tests passed. There may be hidden tests too\n"
          ]
        }
      ],
      "source": [
        "# --------------------------- RUN THIS TEST CODE CELL -------------------------------------\n",
        "# Q1.2B --- Test your implementation:\n",
        "# ---------------------------\n",
        "print (\"Testing the implementation of the 'ceasarCipherDecode' function..\\n \")\n",
        "assert type(return_encrypted_ceasar_code())==str,'output type is incorrect, should be string'\n",
        "assert type(return_decoded_ceasar_code())==str,'output type is incorrect, should be string'\n",
        "assert type(return_decoded_ceasar_code(\"some_arbitrary_string\"))==str,'output type is incorrect, should be string'\n",
        "print (\"good job!\\nTests passed. There may be hidden tests too\")"
      ]
    },
    {
      "cell_type": "markdown",
      "id": "b0f69912",
      "metadata": {
        "deletable": false,
        "editable": false,
        "nbgrader": {
          "cell_type": "markdown",
          "checksum": "52de22e4a87399f03d64872aa1f20cce",
          "grade": false,
          "grade_id": "cell-becf682f5c7ac425",
          "locked": true,
          "schema_version": 3,
          "solution": false,
          "task": false
        },
        "id": "b0f69912"
      },
      "source": [
        "\n",
        "3. Find a real English word consisting of at least 3 letters which, when encoded using Caesar's cipher, is transformed to another real English word."
      ]
    },
    {
      "cell_type": "markdown",
      "id": "3e10e0cb",
      "metadata": {
        "deletable": false,
        "editable": false,
        "nbgrader": {
          "cell_type": "markdown",
          "checksum": "ba0cce017696450c60cc5e921fbe6bc5",
          "grade": false,
          "grade_id": "cell-0251dfd9eba3513d",
          "locked": true,
          "schema_version": 3,
          "solution": false,
          "task": false
        },
        "id": "3e10e0cb"
      },
      "source": [
        "Q1.3: Implement function `return_word_and_shift`, which returns a word in English, 3 letters or more in length, and an integer N so that if we apply Ceasar cypher to the word with shift N, we get another word in English.\n",
        "<pre>\n",
        "------------\n",
        "Input parameters:\n",
        "none\n",
        "------------\n",
        "return value:\n",
        "(word,shift)\n",
        "- word - string, a word in English\n",
        "- shift - integer, the size of N needed to encode it so that the cyphertext is also a word in English\n",
        "</pre>"
      ]
    },
    {
      "cell_type": "code",
      "execution_count": null,
      "id": "88c0d2ff",
      "metadata": {
        "deletable": false,
        "nbgrader": {
          "cell_type": "code",
          "checksum": "c029548aa69d859806ba79f20d566a98",
          "grade": false,
          "grade_id": "cell-61c68e5bc86ea006",
          "locked": false,
          "schema_version": 3,
          "solution": true,
          "task": false
        },
        "id": "88c0d2ff"
      },
      "outputs": [],
      "source": [
        "\n",
        "import random\n",
        "def return_word_and_shift():\n",
        "    words = [ \"grape\", \"abjurer\", \"nowhere\", \"inkier\", \"purply\",\"fusion\", \"layout\",\"manful\",  \"thumbs\",\"primero\", \"sulphur\", \"steeds\", \"tuffet\",\"the\",\"max\", \"pear\",\"apple\", \"banana\", \"kiwi\", \"mango\"]\n",
        "    word = random.choice(words)\n",
        "    shift = random.randint(1, 25)\n",
        "    encoded_word = ceasar_cipher(word, shift)\n",
        "    if encoded_word.lower() not in words:\n",
        "        return return_word_and_shift()\n",
        "    return (word, shift)\n",
        "\n"
      ]
    },
    {
      "cell_type": "code",
      "execution_count": null,
      "id": "0b357088",
      "metadata": {
        "deletable": false,
        "editable": false,
        "nbgrader": {
          "cell_type": "code",
          "checksum": "54eaad698f8db32561b5c537118b9efb",
          "grade": true,
          "grade_id": "cell-fcd88242abcbb20b",
          "locked": true,
          "points": 10,
          "schema_version": 3,
          "solution": false,
          "task": false
        },
        "colab": {
          "base_uri": "https://localhost:8080/"
        },
        "id": "0b357088",
        "outputId": "7b87b4aa-dc5e-40e4-d810-8168003ac4aa"
      },
      "outputs": [
        {
          "output_type": "stream",
          "name": "stdout",
          "text": [
            "Testing the implementation of the 'hash_int' function..\n",
            " \n",
            "good job!\n",
            "Tests passed. There may be hidden tests too\n"
          ]
        }
      ],
      "source": [
        "\n",
        "# --------------------------- RUN THIS TEST CODE CELL -------------------------------------\n",
        "# Q1.3 --- Test your implementation:\n",
        "# ---------------------------\n",
        "print (\"Testing the implementation of the 'hash_int' function..\\n \")\n",
        "found_word=return_word_and_shift()\n",
        "assert len(found_word)==2, 'function should return tuple with two values'\n",
        "assert type(found_word[0]) is str, 'the first part of the output should be of type string'\n",
        "assert type(found_word[1]) is int, 'the secondpart of the output should be of type int'\n",
        "assert len(found_word[0])>=3, 'the word should be at least 3 letters long'\n",
        "print (\"good job!\\nTests passed. There may be hidden tests too\")\n",
        "\n"
      ]
    },
    {
      "cell_type": "markdown",
      "id": "f7b2b0b9",
      "metadata": {
        "deletable": false,
        "editable": false,
        "nbgrader": {
          "cell_type": "markdown",
          "checksum": "b18bda5f51586077c35420e77324e4aa",
          "grade": false,
          "grade_id": "cell-b9dc1b9fb6e80d1b",
          "locked": true,
          "schema_version": 3,
          "solution": false,
          "task": false
        },
        "id": "f7b2b0b9"
      },
      "source": [
        "4. Implement the encoder for the Vigenère cipher: https://en.wikipedia.org/wiki/Vigen%C3%A8re_cipher\n",
        "(encode only the letters, leave other characters as-is)."
      ]
    },
    {
      "cell_type": "markdown",
      "id": "ffccc898",
      "metadata": {
        "deletable": false,
        "editable": false,
        "nbgrader": {
          "cell_type": "markdown",
          "checksum": "bae364b23585dc26caf3896fc092bda5",
          "grade": false,
          "grade_id": "cell-b6dcf7eee82e4fb1",
          "locked": true,
          "schema_version": 3,
          "solution": false,
          "task": false
        },
        "id": "ffccc898"
      },
      "source": [
        "**Q1**.4: Implement function `vigenere_encode`, which will encrypt the input text according to the vigenère code with the provided key.\n",
        "<pre>\n",
        "------------\n",
        "Input parameters:\n",
        "- plaintext - string, the text that needs to be encoded\n",
        "- key - str\n",
        "------------\n",
        "return value:\n",
        "string, the text after encoding\n",
        "</pre>"
      ]
    },
    {
      "cell_type": "code",
      "execution_count": null,
      "id": "c1ea40b3",
      "metadata": {
        "deletable": false,
        "nbgrader": {
          "cell_type": "code",
          "checksum": "35f8d9cec2987647a27b32d2ad69aa96",
          "grade": false,
          "grade_id": "cell-a74f19da20d8c32c",
          "locked": false,
          "schema_version": 3,
          "solution": true,
          "task": false
        },
        "id": "c1ea40b3"
      },
      "outputs": [],
      "source": [
        "def vigenere_encode(plaintext,key):\n",
        "  plaintext = plaintext.upper()\n",
        "  key = key.upper()\n",
        "  ciphertext = \"\"\n",
        "  keyIndex = 0\n",
        "  for char in plaintext:\n",
        "      if char.isalpha():\n",
        "          char_value = ord(char) - ord('A')\n",
        "          key_value = ord(key[keyIndex % len(key)]) - ord('A')\n",
        "          cipher_value = (char_value + key_value) % 26\n",
        "          cipher_char = chr(cipher_value + ord('A'))\n",
        "          ciphertext += cipher_char\n",
        "          keyIndex += 1\n",
        "      else:\n",
        "          ciphertext += char\n",
        "  return ciphertext\n"
      ]
    },
    {
      "cell_type": "code",
      "execution_count": null,
      "id": "19339e67",
      "metadata": {
        "deletable": false,
        "editable": false,
        "nbgrader": {
          "cell_type": "code",
          "checksum": "d719a822159fbfabaf5ab620d7e9935f",
          "grade": true,
          "grade_id": "cell-fede5aa2fb49e35f",
          "locked": true,
          "points": 10,
          "schema_version": 3,
          "solution": false,
          "task": false
        },
        "colab": {
          "base_uri": "https://localhost:8080/"
        },
        "id": "19339e67",
        "outputId": "3573a56a-51c4-4278-8e4a-359c56364cce"
      },
      "outputs": [
        {
          "output_type": "stream",
          "name": "stdout",
          "text": [
            "Testing the implementation of the 'vigenere_encode' function..\n",
            " \n",
            "good job!\n",
            "Tests passed. There may be hidden tests too\n"
          ]
        }
      ],
      "source": [
        "# --------------------------- RUN THIS TEST CODE CELL -------------------------------------\n",
        "# Q1.4 --- Test your implementation:\n",
        "# ---------------------------\n",
        "print (\"Testing the implementation of the 'vigenere_encode' function..\\n \")\n",
        "assert type(vigenere_encode(\"ABCabcABC\",\"vig\"))==str,'output type is incorrect, should be string'\n",
        "print (\"good job!\\nTests passed. There may be hidden tests too\")\n"
      ]
    },
    {
      "cell_type": "markdown",
      "id": "302d7951",
      "metadata": {
        "deletable": false,
        "editable": false,
        "id": "302d7951",
        "nbgrader": {
          "cell_type": "markdown",
          "checksum": "6ae0511ee83067016781b7b261e1a6f4",
          "grade": false,
          "grade_id": "cell-ee0be9b1be675d3f",
          "locked": true,
          "schema_version": 3,
          "solution": false,
          "task": false
        }
      },
      "source": [
        "\n",
        "5. Implement a decoder, and demonstrate by encoding and then decoding the implementation of the Vigenère cipher, as before.\n",
        "\n",
        "<b>Please note:</b> in the case where the encoded text length isn't a multiple of the key, the decoder should still be able to reverse the encoding correctly! Make sure you've handled this case."
      ]
    },
    {
      "cell_type": "markdown",
      "id": "c3d2123c",
      "metadata": {
        "deletable": false,
        "editable": false,
        "nbgrader": {
          "cell_type": "markdown",
          "checksum": "6d3cb18189720e66dfcd834dc7500a7f",
          "grade": false,
          "grade_id": "cell-0b516b713adc25e9",
          "locked": true,
          "schema_version": 3,
          "solution": false,
          "task": false
        },
        "id": "c3d2123c"
      },
      "source": [
        "Q1.5A: Implement function `vigenere_decode`, which will restore the cyphertext created by `vigenere_encode` to plaintext\n",
        "<pre>\n",
        "------------\n",
        "Input parameters:\n",
        "- ciphertext - string, the encoded text that needs to be decrypted\n",
        "- key - str\n",
        "------------\n",
        "return value:\n",
        "string, the text after decoding\n",
        "</pre>"
      ]
    },
    {
      "cell_type": "code",
      "execution_count": null,
      "id": "d93858b3",
      "metadata": {
        "deletable": false,
        "nbgrader": {
          "cell_type": "code",
          "checksum": "1c1a946f5482321328ed9495599fb42a",
          "grade": false,
          "grade_id": "cell-1780c42a6fe02cf5",
          "locked": false,
          "schema_version": 3,
          "solution": true,
          "task": false
        },
        "id": "d93858b3"
      },
      "outputs": [],
      "source": [
        "def vigenere_decode(ciphertext,key):\n",
        "  ans = \"\"\n",
        "  ciphertext = ciphertext.upper()\n",
        "  key = key.upper()\n",
        "  ciphertext = ''\n",
        "  keylen = len(key)\n",
        "  keyIndex = 0\n",
        "  for i in range(len(ciphertext)):\n",
        "      if ciphertext[i].isalpha():\n",
        "          shift = ord(key[keyIndex]) - ord('A')\n",
        "          ciphertext += chr((ord(ciphertext[i]) - ord('A') + shift) % 26 + ord('A'))\n",
        "          keyIndex = (keyIndex + 1) % keylen\n",
        "      else:\n",
        "          ciphertext += ciphertext[i]\n",
        "  return ciphertext"
      ]
    },
    {
      "cell_type": "code",
      "execution_count": null,
      "id": "b734af7d",
      "metadata": {
        "deletable": false,
        "editable": false,
        "nbgrader": {
          "cell_type": "code",
          "checksum": "362b7a36f036af0704e7b80688f2f282",
          "grade": true,
          "grade_id": "cell-7525afb85c29fb34",
          "locked": true,
          "points": 8,
          "schema_version": 3,
          "solution": false,
          "task": false
        },
        "colab": {
          "base_uri": "https://localhost:8080/"
        },
        "id": "b734af7d",
        "outputId": "8f87df85-f34d-41b3-948e-f1bd95bfd387"
      },
      "outputs": [
        {
          "output_type": "stream",
          "name": "stdout",
          "text": [
            "Testing the implementation of the 'vigenere_decode' function..\n",
            " \n",
            "good job!\n",
            "Tests passed. There may be hidden tests too\n"
          ]
        }
      ],
      "source": [
        "# --------------------------- RUN THIS TEST CODE CELL -------------------------------------\n",
        "# Q1.5A --- Test your implementation:\n",
        "# ---------------------------\n",
        "print (\"Testing the implementation of the 'vigenere_decode' function..\\n \")\n",
        "assert type(vigenere_decode(\"ABCDefgh\",\"vig\"))==str,'output type is incorrect, should be string'\n",
        "print (\"good job!\\nTests passed. There may be hidden tests too\")"
      ]
    },
    {
      "cell_type": "markdown",
      "id": "2328508e",
      "metadata": {
        "deletable": false,
        "editable": false,
        "nbgrader": {
          "cell_type": "markdown",
          "checksum": "84d7b76c50aa792ef2bf3f3a41341a4e",
          "grade": false,
          "grade_id": "cell-e6f745769929987d",
          "locked": true,
          "schema_version": 3,
          "solution": false,
          "task": false
        },
        "id": "2328508e"
      },
      "source": [
        "Q1.5B: Implement functions `return_encrypted_vigenere_code`, which will return a string that equals the code of `vigenere_encode` after encryption, with key=\"vig\". Then, implement a function `return_decoded_vigenere_code` which will call `return_encrypted_vigenere_code` and return the decrypted outcome. You may print the output to verify that it matches the original.\n",
        "<pre>\n",
        "return_encrypted_vigenere_code()\n",
        "------------\n",
        "Input parameters:\n",
        "none\n",
        "------------\n",
        "return value:\n",
        "string, the encrypted source code\n",
        "</pre>\n",
        "\n",
        "<pre>\n",
        "return_decoded_vigenere_code()\n",
        "------------\n",
        "Input parameters:\n",
        "encrypted_code - the output of return_encrypted_vigenere_code()\n",
        "------------\n",
        "return value:\n",
        "string, the source code restored to plaintext\n",
        "</pre>"
      ]
    },
    {
      "cell_type": "code",
      "execution_count": null,
      "id": "1d719e58",
      "metadata": {
        "deletable": false,
        "nbgrader": {
          "cell_type": "code",
          "checksum": "1cef96a02702895e050895e94f07b8c4",
          "grade": false,
          "grade_id": "cell-0e04f341a44584a7",
          "locked": false,
          "schema_version": 3,
          "solution": true,
          "task": false
        },
        "id": "1d719e58"
      },
      "outputs": [],
      "source": [
        "\n",
        "def return_encrypted_vigenere_code():\n",
        "    source_code = inspect.getsource(vigenere_encode)\n",
        "    encrypted_code = vigenere_encode(source_code, 'vig')\n",
        "    return encrypted_code\n",
        "\n",
        "\n",
        "def return_decoded_vigenere_code(encrypted_code=return_encrypted_vigenere_code()):\n",
        "    decoded_code = vigenere_decode(encrypted_code, 'vig')\n",
        "    return decoded_code\n"
      ]
    },
    {
      "cell_type": "code",
      "execution_count": null,
      "id": "4c223366",
      "metadata": {
        "deletable": false,
        "editable": false,
        "nbgrader": {
          "cell_type": "code",
          "checksum": "5750992692397ee6c52d63c94078997a",
          "grade": true,
          "grade_id": "cell-bef06a38f2c90ce7",
          "locked": true,
          "points": 2,
          "schema_version": 3,
          "solution": false,
          "task": false
        },
        "colab": {
          "base_uri": "https://localhost:8080/"
        },
        "id": "4c223366",
        "outputId": "ce66c96c-7f0b-4f65-e692-75097dacc222"
      },
      "outputs": [
        {
          "output_type": "stream",
          "name": "stdout",
          "text": [
            "Testing the implementation of the 'return_encrypted/return_decoded' function..\n",
            " \n",
            "good job!\n",
            "Tests passed. There may be hidden tests too\n"
          ]
        }
      ],
      "source": [
        "# --------------------------- RUN THIS TEST CODE CELL -------------------------------------\n",
        "# Q1.5B --- Test your implementation:\n",
        "# ---------------------------\n",
        "print (\"Testing the implementation of the 'return_encrypted/return_decoded' function..\\n \")\n",
        "assert type(return_encrypted_vigenere_code())==str,'output type is incorrect, should be string'\n",
        "assert type(return_decoded_vigenere_code())==str,'output type is incorrect, should be string'\n",
        "assert type(return_decoded_vigenere_code(\"some_arbitrary_string\"))==str,'output type is incorrect, should be string'\n",
        "print (\"good job!\\nTests passed. There may be hidden tests too\")"
      ]
    },
    {
      "cell_type": "markdown",
      "id": "73ec654c",
      "metadata": {
        "deletable": false,
        "editable": false,
        "id": "73ec654c",
        "nbgrader": {
          "cell_type": "markdown",
          "checksum": "8d9db8cec715eddc3c4b796dd5522921",
          "grade": false,
          "grade_id": "cell-9086fa9408f25eac",
          "locked": true,
          "schema_version": 3,
          "solution": false,
          "task": false
        }
      },
      "source": [
        "# Question 2: Hash tables\n",
        "\n",
        "The code cell below contains emergency phone numbers of the university (taken from https://in.bgu.ac.il/logistics/Pages/dialing_rules.aspx). A single entity may have several phone numbers.\n",
        "\n",
        "You will implement a ‘truecaller’ facility: given a phone number, output the name of the entity. For example,\n",
        "```python\n",
        "caller = truecaller(t, 4100)\n",
        "print(f\"{caller} called!\")\n",
        "```\n",
        "```truecaller``` should return “Police”.\n",
        "\n",
        "if the number is not found, the function should return None\n",
        "\n",
        "Q1. Implement 'truecaller' using a Python dictionary\n"
      ]
    },
    {
      "cell_type": "code",
      "execution_count": null,
      "id": "40a634ab",
      "metadata": {
        "deletable": false,
        "editable": false,
        "nbgrader": {
          "cell_type": "code",
          "checksum": "e29a08da5e6ef429987b3dc91e282a60",
          "grade": false,
          "grade_id": "cell-48597a6db620e77d",
          "locked": true,
          "schema_version": 3,
          "solution": false,
          "task": false
        },
        "id": "40a634ab"
      },
      "outputs": [],
      "source": [
        "phonebook = [[\"Security\",     '61888', '61555', '61444'],\n",
        "    [\"Police\",    '100', '4100'],\n",
        "    [\"Magen David Adom\",    '101', '4101'],\n",
        "    [\"Fire brigade\",    '102', '4102'],\n",
        "    [\"Soroka hospital\",    '4007'] ]\n",
        "\n",
        "def truecaller(phonebook, number):\n",
        "    phone_dict = {}\n",
        "    for entry in phonebook:\n",
        "        entity = entry[0]\n",
        "        for phone in entry[1:]:\n",
        "            phone_dict[phone] = entity\n",
        "    if number in phone_dict:\n",
        "        return phone_dict[number]\n",
        "    else:\n",
        "        return None\n",
        "\n"
      ]
    },
    {
      "cell_type": "markdown",
      "id": "8922be37",
      "metadata": {
        "deletable": false,
        "editable": false,
        "nbgrader": {
          "cell_type": "markdown",
          "checksum": "c1a90732bc744869c63a7cf42226165d",
          "grade": false,
          "grade_id": "cell-7d36160eaa5dd458",
          "locked": true,
          "schema_version": 3,
          "solution": false,
          "task": false
        },
        "id": "8922be37"
      },
      "source": [
        "Q2.1A : Implement an auxiliary `make_trucaller_python_dictionary` function that converts the provided `phonebook` list into a Python dictionary\n",
        "<pre>\n",
        "------------\n",
        "Input parameters:\n",
        "- phn - a Python list, as `phonebook`, where every item is a list of strings. The first string is the caller's name, the following strings are phone numbers\n",
        "------------\n",
        "return value:\n",
        "Python dictionary\n",
        "------------\n",
        "</pre>"
      ]
    },
    {
      "cell_type": "code",
      "execution_count": null,
      "id": "b1646416",
      "metadata": {
        "deletable": false,
        "nbgrader": {
          "cell_type": "code",
          "checksum": "ce4f04501d8a92ee13bc03a87ea9b21f",
          "grade": false,
          "grade_id": "cell-87a450fdc22b0d47",
          "locked": false,
          "schema_version": 3,
          "solution": true,
          "task": false
        },
        "id": "b1646416"
      },
      "outputs": [],
      "source": [
        "def make_truecaller_python_dictionary(phn=phonebook):\n",
        "    Dictionary = {}\n",
        "    for entry in phn:\n",
        "        Name = entry[0]\n",
        "        Numbers = entry[1:]\n",
        "        Dictionary[Name] = Numbers\n",
        "    return Dictionary\n",
        ""
      ]
    },
    {
      "cell_type": "markdown",
      "id": "962a69f0",
      "metadata": {
        "deletable": false,
        "editable": false,
        "nbgrader": {
          "cell_type": "markdown",
          "checksum": "a99b1f4d8ac0b19749ce1b4ab8db0412",
          "grade": false,
          "grade_id": "cell-55a3a47d02905ced",
          "locked": true,
          "schema_version": 3,
          "solution": false,
          "task": false
        },
        "id": "962a69f0"
      },
      "source": [
        "Q2.1B : Implement a `truecaller1` function, relying on `make_truecaller_python_dictionary`, which takes as input a phone number, and outputs a string with the caller's name as it appears in the phonebook (or returns None if the number couldn't be found).\n",
        "<pre>\n",
        "------------\n",
        "Input parameters:\n",
        "- phone_number - a string, containing a phone number\n",
        "------------\n",
        "return value:\n",
        "a string , with the caller's name\n",
        "------------\n",
        "</pre>"
      ]
    },
    {
      "cell_type": "code",
      "execution_count": null,
      "id": "55cb4334",
      "metadata": {
        "deletable": false,
        "nbgrader": {
          "cell_type": "code",
          "checksum": "5ded6245582e8440d3eefc098222e703",
          "grade": false,
          "grade_id": "cell-9e86c1484dcf36f4",
          "locked": false,
          "schema_version": 3,
          "solution": true,
          "task": false
        },
        "id": "55cb4334"
      },
      "outputs": [],
      "source": [
        "phonebookDic= make_truecaller_python_dictionary(phonebook)\n",
        "def truecaller1(phone_number,caller_dict=phonebookDic):\n",
        "   for Name, phones in phonebookDic.items():\n",
        "        if phone_number in phones:\n",
        "          return Name\n",
        "   return None\n",
        "\n"
      ]
    },
    {
      "cell_type": "code",
      "execution_count": null,
      "id": "36dedd1c",
      "metadata": {
        "deletable": false,
        "editable": false,
        "nbgrader": {
          "cell_type": "code",
          "checksum": "00346b0aef73e69ad538737f063a91ee",
          "grade": true,
          "grade_id": "cell-1be6975be3ec4742",
          "locked": true,
          "points": 12,
          "schema_version": 3,
          "solution": false,
          "task": false
        },
        "colab": {
          "base_uri": "https://localhost:8080/"
        },
        "id": "36dedd1c",
        "outputId": "37968278-d566-49b9-b593-ba68c6bc3e7b"
      },
      "outputs": [
        {
          "output_type": "stream",
          "name": "stdout",
          "text": [
            "Testing the implementation of the 'make_truecaller_python_dictionary' function..\n",
            " \n",
            "Testing the implementation of the 'truecaller1' function..\n",
            " \n",
            "good job!\n",
            "Tests passed. There may be hidden tests too\n"
          ]
        }
      ],
      "source": [
        "# --------------------------- RUN THIS TEST CODE CELL -------------------------------------\n",
        "# Q2.1 --- Test your implementation:\n",
        "# ---------------------------\n",
        "print (\"Testing the implementation of the 'make_truecaller_python_dictionary' function..\\n \")\n",
        "assert type(make_truecaller_python_dictionary())==dict,'output type is incorrect, should be python dictionary'\n",
        "print (\"Testing the implementation of the 'truecaller1' function..\\n \")\n",
        "assert type(truecaller1('101'))==str,'output type is incorrect, should be string'\n",
        "print (\"good job!\\nTests passed. There may be hidden tests too\")\n"
      ]
    },
    {
      "cell_type": "markdown",
      "id": "23bf092d",
      "metadata": {
        "deletable": false,
        "editable": false,
        "id": "23bf092d",
        "nbgrader": {
          "cell_type": "markdown",
          "checksum": "26904c195d7bad0b77d00cb699bd71c4",
          "grade": false,
          "grade_id": "cell-b53c70bd58bd6294",
          "locked": true,
          "schema_version": 3,
          "solution": false,
          "task": false
        }
      },
      "source": [
        "\n",
        "Q2. Implement \"truecaller2\" using your own implementation of dictionary:\n",
        "\n",
        "\n",
        "\n"
      ]
    },
    {
      "cell_type": "code",
      "execution_count": null,
      "id": "2a4afca0",
      "metadata": {
        "deletable": false,
        "nbgrader": {
          "cell_type": "code",
          "checksum": "51583e85fc927ff37594fb13ed28e45b",
          "grade": false,
          "grade_id": "cell-f06f7223c2e94a50",
          "locked": false,
          "schema_version": 3,
          "solution": true,
          "task": false
        },
        "id": "2a4afca0"
      },
      "outputs": [],
      "source": [
        "#we can use a similar dictionary as we saw in class\n",
        "def maket(n):\n",
        "    # t = []\n",
        "    # for _ in range(n):\n",
        "    #     t.append([])\n",
        "    # return t\n",
        "    return [list() for _ in range(n)]\n",
        "\n",
        "def tset(table, key, value, h=hash):\n",
        "    i = h(key) % len(table)\n",
        "    entry = table[i]\n",
        "    for i, (k, v) in enumerate(entry):\n",
        "        if key==k:\n",
        "            entry[i] = (key, value)\n",
        "            return\n",
        "    entry.append((key, value))\n",
        "\n",
        "def tget(table, key, h=hash):\n",
        "    i = h(key) % len(table)\n",
        "    entry = table[i]\n",
        "    for i, (k, v) in enumerate(entry):\n",
        "        if key==k:\n",
        "            return v\n",
        "    return None\n"
      ]
    },
    {
      "cell_type": "markdown",
      "id": "517f57f0",
      "metadata": {
        "deletable": false,
        "editable": false,
        "nbgrader": {
          "cell_type": "markdown",
          "checksum": "e37fabd165e67218629e56b45dcd2dda",
          "grade": false,
          "grade_id": "cell-ce0d376f5cbd3dc8",
          "locked": true,
          "schema_version": 3,
          "solution": false,
          "task": false
        },
        "id": "517f57f0"
      },
      "source": [
        "Q2.2A : Implement an auxiliary `make_truecaller_own_implement_dictionary` function that converts the provided `phonebook` list into a structure that behaves like a hash table\n",
        "    \n",
        "<pre>\n",
        "------------\n",
        "Input parameters:\n",
        "- phn - a Python list, as `phonebook`, where every item is a list of strings. The first string is the caller's name, the following strings are phone numbers\n",
        "------------\n",
        "return value:\n",
        "a Python list\n",
        "------------\n",
        "</pre>"
      ]
    },
    {
      "cell_type": "code",
      "execution_count": null,
      "id": "8a2a6d89",
      "metadata": {
        "deletable": false,
        "nbgrader": {
          "cell_type": "code",
          "checksum": "ab47e533d5ebb36eda77ddf784e342af",
          "grade": false,
          "grade_id": "cell-0f5cd96a463d46c9",
          "locked": false,
          "schema_version": 3,
          "solution": true,
          "task": false
        },
        "id": "8a2a6d89"
      },
      "outputs": [],
      "source": [
        "def make_truecaller_own_implement_dictionary(phBook=phonebook):\n",
        "   phonebookDic = [[] for _ in range(1000)]\n",
        "   for entry in phBook:\n",
        "        callerName = entry[0]\n",
        "        phoneNumbers = entry[1:]\n",
        "        for phoneNumber in phoneNumbers:\n",
        "            hashValue = hash(phoneNumber) % 1000\n",
        "            phonebookDic[hashValue].append((phoneNumber,callerName))\n",
        "   return phonebookDic\n"
      ]
    },
    {
      "cell_type": "markdown",
      "id": "419f5a54",
      "metadata": {
        "deletable": false,
        "editable": false,
        "nbgrader": {
          "cell_type": "markdown",
          "checksum": "bc00b99c395d59c41e1010ce10c74fe6",
          "grade": false,
          "grade_id": "cell-031343b377270d96",
          "locked": true,
          "schema_version": 3,
          "solution": false,
          "task": false
        },
        "id": "419f5a54"
      },
      "source": [
        "Q2.2B : Implement a `truecaller2` function, relying on `make_truecaller_own_implement_dictionary`, which takes as input a phone number, and outputs a string with the caller's name as it appears in the phonebook (or returns None if the number couldn't be found).\n",
        "<pre>\n",
        "------------\n",
        "Input parameters:\n",
        "- phone_number - a string, containing a phone number\n",
        "------------\n",
        "return value:\n",
        "a string , with the caller's name\n",
        "------------\n",
        "</pre>"
      ]
    },
    {
      "cell_type": "code",
      "execution_count": null,
      "id": "267564de",
      "metadata": {
        "deletable": false,
        "nbgrader": {
          "cell_type": "code",
          "checksum": "edb73e768f07fc5f424f8a5ff9c577d3",
          "grade": false,
          "grade_id": "cell-a2c907715447ebae",
          "locked": false,
          "schema_version": 3,
          "solution": true,
          "task": false
        },
        "id": "267564de"
      },
      "outputs": [],
      "source": [
        "make_own_dictionary=make_truecaller_own_implement_dictionary(phonebook)\n",
        "def truecaller2(phone_number,own_dictionary=make_own_dictionary):\n",
        "    hashValue = hash(phone_number) % 1000\n",
        "    for key, value in make_own_dictionary[hashValue]:\n",
        "        if key == phone_number:\n",
        "            return value\n",
        "    return None\n"
      ]
    },
    {
      "cell_type": "code",
      "execution_count": null,
      "id": "49bf07e1",
      "metadata": {
        "deletable": false,
        "editable": false,
        "nbgrader": {
          "cell_type": "code",
          "checksum": "8027d662391b1fd881935746d2789b21",
          "grade": true,
          "grade_id": "cell-9bd7a35c7e4305a6",
          "locked": true,
          "points": 12,
          "schema_version": 3,
          "solution": false,
          "task": false
        },
        "id": "49bf07e1",
        "colab": {
          "base_uri": "https://localhost:8080/"
        },
        "outputId": "585cd4a5-945d-43cd-c508-85c0b17f49cb"
      },
      "outputs": [
        {
          "output_type": "stream",
          "name": "stdout",
          "text": [
            "Testing the implementation of the 'make_truecaller_python_dictionary' function..\n",
            " \n",
            "Testing the implementation of the 'truecaller1' function..\n",
            " \n",
            "good job!\n",
            "Tests passed. There may be hidden tests too\n"
          ]
        }
      ],
      "source": [
        "# --------------------------- RUN THIS TEST CODE CELL -------------------------------------\n",
        "# Q2.2 --- Test your implementation:\n",
        "# ---------------------------\n",
        "print (\"Testing the implementation of the 'make_truecaller_python_dictionary' function..\\n \")\n",
        "assert type(make_truecaller_own_implement_dictionary())==list,'output type is incorrect, should be list'\n",
        "print (\"Testing the implementation of the 'truecaller1' function..\\n \")\n",
        "assert type(truecaller2('102'))==str,'output type is incorrect, should be string'\n",
        "print (\"good job!\\nTests passed. There may be hidden tests too\")\n"
      ]
    },
    {
      "cell_type": "markdown",
      "id": "a5c7fad7",
      "metadata": {
        "deletable": false,
        "editable": false,
        "id": "a5c7fad7",
        "nbgrader": {
          "cell_type": "markdown",
          "checksum": "4c4a9853c1d73f1a9b5042bc02bc48c8",
          "grade": false,
          "grade_id": "cell-843117891a9d6578",
          "locked": true,
          "schema_version": 3,
          "solution": false,
          "task": false
        }
      },
      "source": [
        "\n",
        "3. Implement a hash function `hash_string` for ids. Treat ids as _strings_ of characters.\n"
      ]
    },
    {
      "cell_type": "markdown",
      "id": "71da2ee3",
      "metadata": {
        "deletable": false,
        "editable": false,
        "nbgrader": {
          "cell_type": "markdown",
          "checksum": "52bc9db9949c6c18dcf4df7e7a9c2e64",
          "grade": false,
          "grade_id": "cell-f61fd6552776dcdc",
          "locked": true,
          "schema_version": 3,
          "solution": false,
          "task": false
        },
        "id": "71da2ee3"
      },
      "source": [
        "<pre>\n",
        "------------\n",
        "Input parameters:\n",
        "- str_to_hash - a string\n",
        "------------\n",
        "return value:\n",
        "an integer\n",
        "------------\n",
        "</pre>"
      ]
    },
    {
      "cell_type": "code",
      "execution_count": null,
      "id": "d6908ebd",
      "metadata": {
        "deletable": false,
        "nbgrader": {
          "cell_type": "code",
          "checksum": "4a71b2773ec5238b47184fd0bb362581",
          "grade": false,
          "grade_id": "cell-907e0df43371898d",
          "locked": false,
          "schema_version": 3,
          "solution": true,
          "task": false
        },
        "id": "d6908ebd"
      },
      "outputs": [],
      "source": [
        "def hash_string(str_to_hash):\n",
        "  hash_value = 0\n",
        "  for char in str_to_hash:\n",
        "    hash_value = (hash_value * 31 + ord(char)) % 2**32\n",
        "  return hash_value"
      ]
    },
    {
      "cell_type": "code",
      "execution_count": null,
      "id": "00b7eff6",
      "metadata": {
        "deletable": false,
        "editable": false,
        "nbgrader": {
          "cell_type": "code",
          "checksum": "9f08e1b4ec20a8d3b4e07b1abcfb8483",
          "grade": true,
          "grade_id": "cell-6074fd7cee4c2b6d",
          "locked": true,
          "points": 12,
          "schema_version": 3,
          "solution": false,
          "task": false
        },
        "id": "00b7eff6",
        "colab": {
          "base_uri": "https://localhost:8080/"
        },
        "outputId": "2e9c78f5-4c4f-4dee-ca45-b75db16f8f10"
      },
      "outputs": [
        {
          "output_type": "stream",
          "name": "stdout",
          "text": [
            "Testing the implementation of the 'hash_string' function..\n",
            " \n",
            "good job!\n",
            "Tests passed. There may be hidden tests too\n"
          ]
        }
      ],
      "source": [
        "\n",
        "# --------------------------- RUN THIS TEST CODE CELL -------------------------------------\n",
        "# Q2.3 --- Test your implementation:\n",
        "# ---------------------------\n",
        "print (\"Testing the implementation of the 'hash_string' function..\\n \")\n",
        "assert type(hash_string(\"some string\"))==int,'output should be an integer'\n",
        "print (\"good job!\\nTests passed. There may be hidden tests too\")\n",
        "\n"
      ]
    },
    {
      "cell_type": "markdown",
      "id": "bb5b263d",
      "metadata": {
        "deletable": false,
        "editable": false,
        "id": "bb5b263d",
        "nbgrader": {
          "cell_type": "markdown",
          "checksum": "307a2d55bf985c8d22213f9cb3beda54",
          "grade": false,
          "grade_id": "cell-59a6c62f24842735",
          "locked": true,
          "schema_version": 3,
          "solution": false,
          "task": false
        }
      },
      "source": [
        "\n",
        "4. A check digit is used in ids in order to detect errors and make faking an id a bit harder. The exact formula for ids' check digit can be found in https://he.wikipedia.org/wiki/%D7%A1%D7%A4%D7%A8%D7%AA_%D7%91%D7%99%D7%A7%D7%95%D7%A8%D7%AA. Implement a function `check_id` which checks if a given id is legal with 2 conditions:\n",
        "1. It is of length 9\n",
        "2. The check digit is correct"
      ]
    },
    {
      "cell_type": "markdown",
      "source": [
        "Implement the function `check_id` that returns whether an id is legal or not:\n",
        "\n",
        "\n",
        "\n",
        "\n",
        "\n",
        "<pre>\n",
        "------------\n",
        "Input parameters:\n",
        "- id: a string\n",
        "------------\n",
        "return value:\n",
        "- boolean\n",
        "------------\n",
        "</pre>"
      ],
      "metadata": {
        "id": "QOVuYALE3ZDf"
      },
      "id": "QOVuYALE3ZDf"
    },
    {
      "cell_type": "code",
      "execution_count": null,
      "id": "636df540",
      "metadata": {
        "deletable": false,
        "nbgrader": {
          "cell_type": "code",
          "checksum": "a2be1c19387d62a85dc5ca93502f20bf",
          "grade": false,
          "grade_id": "cell-a5389da6f18d38bd",
          "locked": false,
          "schema_version": 3,
          "solution": true,
          "task": false
        },
        "id": "636df540"
      },
      "outputs": [],
      "source": [
        "def check_id(id):\n",
        "    # Check length\n",
        "    if len(id) != 9:\n",
        "        return False\n",
        "\n",
        "    # Calculate check digit\n",
        "    factors = [1, 2, 1, 2, 1, 2, 1, 2, 1]\n",
        "    digits = [int(d) for d in id]\n",
        "    products = [factors[i] * digits[i] for i in range(8)]\n",
        "    products = [p % 10 + p // 10 for p in products]\n",
        "    check_digit = (10 - sum(products)) % 10\n",
        "\n",
        "    # Check check digit\n",
        "    return check_digit == int(id[8])\n"
      ]
    },
    {
      "cell_type": "code",
      "execution_count": null,
      "id": "b966b718",
      "metadata": {
        "deletable": false,
        "editable": false,
        "nbgrader": {
          "cell_type": "code",
          "checksum": "f870adff00c6f80b62e243a540a2682a",
          "grade": true,
          "grade_id": "cell-cf67edd4a8ae7aa5",
          "locked": true,
          "points": 14,
          "schema_version": 3,
          "solution": false,
          "task": false
        },
        "id": "b966b718",
        "colab": {
          "base_uri": "https://localhost:8080/"
        },
        "outputId": "c2271528-8c29-4467-edab-60e842efa42e"
      },
      "outputs": [
        {
          "output_type": "stream",
          "name": "stdout",
          "text": [
            "Testing the implementation of the min_size- functions..\n",
            " \n",
            "good job!\n",
            "Tests passed. There may be hidden tests too\n"
          ]
        }
      ],
      "source": [
        "\n",
        "\n",
        "# --------------------------- RUN THIS TEST CODE CELL -------------------------------------\n",
        "# Q2.4 --- Test your implementation:\n",
        "# ---------------------------\n",
        "print (\"Testing the implementation of the min_size- functions..\\n \")\n",
        "assert check_id(\"123456789\")==False,'output should be False'\n",
        "assert check_id(\"123456782\")==True,'output should be True'\n",
        "print (\"good job!\\nTests passed. There may be hidden tests too\")\n"
      ]
    },
    {
      "cell_type": "markdown",
      "id": "7ad96769",
      "metadata": {
        "deletable": false,
        "editable": false,
        "nbgrader": {
          "cell_type": "code",
          "checksum": "f870adff00c6f80b62e243a540a2682a",
          "grade": true,
          "grade_id": "cell-cf67edd4a8ae7aa5",
          "locked": true,
          "points": 14,
          "schema_version": 3,
          "solution": false,
          "task": false
        },
        "id": "7ad96769"
      },
      "source": [
        "5. Hashing is called ‘perfect’ if there are no ‘key conflicts‘. Can you find if there is a value that has a conflict with your own id, when using the hash function you implemented in Q2.3?"
      ]
    },
    {
      "cell_type": "markdown",
      "id": "86eb972f",
      "metadata": {
        "deletable": false,
        "editable": false,
        "nbgrader": {
          "cell_type": "code",
          "checksum": "f870adff00c6f80b62e243a540a2682a",
          "grade": true,
          "grade_id": "cell-cf67edd4a8ae7aa5",
          "locked": true,
          "points": 14,
          "schema_version": 3,
          "solution": false,
          "task": false
        },
        "id": "86eb972f"
      },
      "source": [
        "Implement the function `find_conflict` that returns if there is an id with the same hash value as your own id, or an empty string otherwise:\n",
        "\n",
        "<pre>\n",
        "------------\n",
        "Input parameters:\n",
        "- id: your own id\n",
        "------------\n",
        "return value:\n",
        "- string, either empty or a legal id with the same hash value as your own id\n",
        "------------\n",
        "</pre>"
      ]
    },
    {
      "cell_type": "code",
      "execution_count": null,
      "id": "5e79aa5b",
      "metadata": {
        "deletable": false,
        "nbgrader": {
          "cell_type": "code",
          "checksum": "f68cab6f2706d22146f9b1ed3839070d",
          "grade": false,
          "grade_id": "cell-cba9f3c0fcdfb195",
          "locked": false,
          "schema_version": 3,
          "solution": true,
          "task": false
        },
        "id": "5e79aa5b"
      },
      "outputs": [],
      "source": [
        "\n",
        "def find_conflict(id):\n",
        "    hash_value = hash_string(id)\n",
        "    for i in range(1000000000):\n",
        "        test_id = str(i).zfill(9)\n",
        "        if hash_string(test_id) == hash_value and check_id(test_id):\n",
        "            return test_id\n",
        "    return ''\n"
      ]
    }
  ],
  "metadata": {
    "celltoolbar": "Edit Metadata",
    "kernelspec": {
      "display_name": "Python 3 (ipykernel)",
      "language": "python",
      "name": "python3"
    },
    "language_info": {
      "codemirror_mode": {
        "name": "ipython",
        "version": 3
      },
      "file_extension": ".py",
      "mimetype": "text/x-python",
      "name": "python",
      "nbconvert_exporter": "python",
      "pygments_lexer": "ipython3",
      "version": "3.11.3"
    },
    "colab": {
      "provenance": [],
      "include_colab_link": true
    }
  },
  "nbformat": 4,
  "nbformat_minor": 5
}
